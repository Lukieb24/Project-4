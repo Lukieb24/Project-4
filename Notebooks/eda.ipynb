{
 "cells": [
  {
   "cell_type": "code",
   "execution_count": null,
   "metadata": {},
   "outputs": [],
   "source": [
    "import plotly.express as px\n",
    "import pandas as pd\n",
    "\n",
    "# Load the dataset from your repository\n",
    "# If it's in a subfolder, add the path relative to your code\n",
    "df = pd.read_csv('vehicles_us.csv')\n",
    "\n",
    "# Check the first few rows to understand the structure of the dataset\n",
    "print(df.head())\n",
    "fig1 = px.histogram(df, x='price', nbins=10, title='Distribution of Car Prices')\n",
    "fig1.show()\n",
    "\n",
    "# Histogram of Car Mileage\n",
    "fig2 = px.histogram(df, x='mileage', nbins=10, title='Distribution of Car Mileage')\n",
    "fig2.show()\n",
    "\n",
    "# Scatterplot of Price vs Mileage\n",
    "fig3 = px.scatter(df, x='mileage', y='price', title='Price vs Mileage',\n",
    "                  labels={'x': 'Mileage (in miles)', 'y': 'Price (in $)'})\n",
    "fig3.show()\n",
    "\n",
    "# Scatterplot of Price vs Horsepower\n",
    "fig4 = px.scatter(df, x='horsepower', y='price', title='Price vs Horsepower',\n",
    "                  labels={'x': 'Horsepower (HP)', 'y': 'Price (in $)'})\n",
    "fig4.show()"
   ]
  }
 ],
 "metadata": {
  "language_info": {
   "name": "python"
  }
 },
 "nbformat": 4,
 "nbformat_minor": 2
}
